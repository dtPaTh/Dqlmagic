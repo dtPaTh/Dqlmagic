{
 "cells": [
  {
   "attachments": {},
   "cell_type": "markdown",
   "metadata": {},
   "source": [
    "# Getting started with Dqlmagic\n",
    "\n",
    "## Load Dqlmagic and authenticate"
   ]
  },
  {
   "cell_type": "code",
   "execution_count": null,
   "metadata": {},
   "outputs": [],
   "source": [
    "%reload_ext dqlmagic\n",
    "%auth_grail "
   ]
  },
  {
   "attachments": {},
   "cell_type": "markdown",
   "metadata": {},
   "source": [
    "## Run first queries\n",
    "\n",
    "### Cell query returning raw response"
   ]
  },
  {
   "cell_type": "code",
   "execution_count": 13,
   "metadata": {},
   "outputs": [
    {
     "data": {
      "text/plain": [
       "b'{\"batches\":[{\"types\":{\"content\":\"string\",\"timestamp\":\"timestamp\",\"dt.entity.cloud_application\":\"string\",\"dt.entity.cloud_application_instance\":\"string\",\"dt.entity.cloud_application_namespace\":\"string\",\"dt.entity.container_group\":\"string\",\"dt.entity.container_group_instance\":\"string\",\"dt.entity.host\":\"string\",\"dt.entity.kubernetes_cluster\":\"string\",\"dt.entity.kubernetes_node\":\"string\",\"dt.entity.process_group\":\"string\",\"dt.entity.process_group_instance\":\"string\",\"dt.kubernetes.cluster.name\":\"string\",\"dt.kubernetes.node.system_uuid\":\"string\",\"dt.process.name\":\"string\",\"dt.source_entity\":\"string\",\"event.type\":\"string\",\"host.name\":\"string\",\"k8s.container.name\":\"string\",\"k8s.deployment.name\":\"string\",\"k8s.namespace.name\":\"string\",\"k8s.pod.name\":\"string\",\"k8s.pod.uid\":\"string\",\"log.source\":\"string\",\"loglevel\":\"string\",\"process.technology\":\"string\",\"status\":\"string\",\"log.iostream\":\"string\"},\"records\":[{\"content\":\"{\\\\\"instant\\\\\":{\\\\\"epochSecond\\\\\":1671651427,\\\\\"nanoOfSecond\\\\\":144586000},\\\\\"thread\\\\\":\\\\\"unleash-api-executor\\\\\",\\\\\"level\\\\\":\\\\\"INFO\\\\\",\\\\\"loggerName\\\\\":\\\\\"hipstershop.AdService\\\\\",\\\\\"message\\\\\":\\\\\"Fetched toggles. Status: NOT_CHANGED\\\\\",\\\\\"endOfBatch\\\\\":false,\\\\\"loggerFqcn\\\\\":\\\\\"org.apache.logging.log4j.spi.AbstractLogger\\\\\",\\\\\"threadId\\\\\":47,\\\\\"threadPriority\\\\\":5,\\\\\"logging.googleapis.com/trace\\\\\":\\\\\"00000000000000000000000000000000\\\\\",\\\\\"logging.googleapis.com/spanId\\\\\":\\\\\"0000000000000000\\\\\",\\\\\"logging.googleapis.com/traceSampled\\\\\":\\\\\"false\\\\\",\\\\\"time\\\\\":\\\\\"2022-12-21T19:37:07.144Z\\\\\"}\",\"timestamp\":\"2022-12-21T19:37:07.144000000Z\",\"dt.entity.cloud_application\":\"CLOUD_APPLICATION-C8BA01269BC6E499\",\"dt.entity.cloud_application_instance\":\"CLOUD_APPLICATION_INSTANCE-B5E1E73FC1ECE1B9\",\"dt.entity.cloud_application_namespace\":\"CLOUD_APPLICATION_NAMESPACE-71999F15315935CF\",\"dt.entity.container_group\":\"CONTAINER_GROUP-5C0AB02A5A2BF5F6\",\"dt.entity.container_group_instance\":\"CONTAINER_GROUP_INSTANCE-467018F5831B2B4C\",\"dt.entity.host\":\"HOST-0D0EBE0ED657F52D\",\"dt.entity.kubernetes_cluster\":\"KUBERNETES_CLUSTER-324E5954D86018E3\",\"dt.entity.kubernetes_node\":\"KUBERNETES_NODE-BC1610EB622744B7\",\"dt.entity.process_group\":\"PROCESS_GROUP-BB480A57E01CF0C9\",\"dt.entity.process_group_instance\":\"PROCESS_GROUP_INSTANCE-EE365185C8D4BF7A\",\"dt.kubernetes.cluster.name\":\"gke\",\"dt.kubernetes.node.system_uuid\":\"8a310430-96e7-cdc8-5879-84ba05e08cfb\",\"dt.process.name\":\"HipsterShop: adservice\",\"dt.source_entity\":\"PROCESS_GROUP_INSTANCE-EE365185C8D4BF7A\",\"event.type\":\"LOG\",\"host.name\":\"gke-keptn-demo1-cos-bd5b5ae9-4u2q.c.dynatrace-demoability.internal\",\"k8s.container.name\":\"server\",\"k8s.deployment.name\":\"adservice-*\",\"k8s.namespace.name\":\"hipstershop-prod\",\"k8s.pod.name\":\"adservice-68884c6989-t7zsz\",\"k8s.pod.uid\":\"a4f2fe81-320d-4ca6-b2ae-8d68db1074ef\",\"log.source\":\"/var/log/pods/hipstershop-prod_adservice-68884c6989-t7zsz_a4f2fe81-320d-4ca6-b2ae-8d68db1074ef/server/#.log\",\"loglevel\":\"NONE\",\"process.technology\":\"Containerd\",\"status\":\"NONE\",\"log.iostream\":\"stdout\"},{\"content\":\"{\\\\\"instant\\\\\":{\\\\\"epochSecond\\\\\":1671651427,\\\\\"nanoOfSecond\\\\\":291940000},\\\\\"thread\\\\\":\\\\\"grpc-default-executor-5914\\\\\",\\\\\"level\\\\\":\\\\\"INFO\\\\\",\\\\\"loggerName\\\\\":\\\\\"hipstershop.AdService\\\\\",\\\\\"message\\\\\":\\\\\"received ad request (context_words=[kitchen])\\\\\",\\\\\"endOfBatch\\\\\":false,\\\\\"loggerFqcn\\\\\":\\\\\"org.apache.logging.log4j.spi.AbstractLogger\\\\\",\\\\\"threadId\\\\\":32879,\\\\\"threadPriority\\\\\":5,\\\\\"logging.googleapis.com/trace\\\\\":\\\\\"00000000000000000000000000000000\\\\\",\\\\\"logging.googleapis.com/spanId\\\\\":\\\\\"0000000000000000\\\\\",\\\\\"logging.googleapis.com/traceSampled\\\\\":\\\\\"false\\\\\",\\\\\"time\\\\\":\\\\\"2022-12-21T19:37:07.291Z\\\\\"}\",\"timestamp\":\"2022-12-21T19:37:07.292000000Z\",\"dt.entity.cloud_application\":\"CLOUD_APPLICATION-C8BA01269BC6E499\",\"dt.entity.cloud_application_instance\":\"CLOUD_APPLICATION_INSTANCE-B5E1E73FC1ECE1B9\",\"dt.entity.cloud_application_namespace\":\"CLOUD_APPLICATION_NAMESPACE-71999F15315935CF\",\"dt.entity.container_group\":\"CONTAINER_GROUP-5C0AB02A5A2BF5F6\",\"dt.entity.container_group_instance\":\"CONTAINER_GROUP_INSTANCE-467018F5831B2B4C\",\"dt.entity.host\":\"HOST-0D0EBE0ED657F52D\",\"dt.entity.kubernetes_cluster\":\"KUBERNETES_CLUSTER-324E5954D86018E3\",\"dt.entity.kubernetes_node\":\"KUBERNETES_NODE-BC1610EB622744B7\",\"dt.entity.process_group\":\"PROCESS_GROUP-BB480A57E01CF0C9\",\"dt.entity.process_group_instance\":\"PROCESS_GROUP_INSTANCE-EE365185C8D4BF7A\",\"dt.kubernetes.cluster.name\":\"gke\",\"dt.kubernetes.node.system_uuid\":\"8a310430-96e7-cdc8-5879-84ba05e08cfb\",\"dt.process.name\":\"HipsterShop: adservice\",\"dt.source_entity\":\"PROCESS_GROUP_INSTANCE-EE365185C8D4BF7A\",\"event.type\":\"LOG\",\"host.name\":\"gke-keptn-demo1-cos-bd5b5ae9-4u2q.c.dynatrace-demoability.internal\",\"k8s.container.name\":\"server\",\"k8s.deployment.name\":\"adservice-*\",\"k8s.namespace.name\":\"hipstershop-prod\",\"k8s.pod.name\":\"adservice-68884c6989-t7zsz\",\"k8s.pod.uid\":\"a4f2fe81-320d-4ca6-b2ae-8d68db1074ef\",\"log.source\":\"/var/log/pods/hipstershop-prod_adservice-68884c6989-t7zsz_a4f2fe81-320d-4ca6-b2ae-8d68db1074ef/server/#.log\",\"loglevel\":\"NONE\",\"process.technology\":\"Containerd\",\"status\":\"NONE\",\"log.iostream\":\"stdout\"}]}],\"notifications\":[{\"severity\":\"WARNING\",\"messageFormat\":\"API %s is unstable and might change in a breaking way. Consider using a stable API (%s).\",\"messageFormatSpecifierTypes\":[],\"arguments\":[\"v0.3\",\"v2-beta, v0.4, v0.5, v0.6\"],\"notificationType\":\"UNSTABLE_API\",\"message\":\"API v0.3 is unstable and might change in a breaking way. Consider using a stable API (v2-beta, v0.4, v0.5, v0.6).\"}]}'"
      ]
     },
     "execution_count": 13,
     "metadata": {},
     "output_type": "execute_result"
    }
   ],
   "source": [
    "%%dql_raw\n",
    "fetch logs, from:-10m | limit 2\n"
   ]
  },
  {
   "cell_type": "code",
   "execution_count": 14,
   "metadata": {},
   "outputs": [
    {
     "data": {
      "text/plain": [
       "[{'content': '{\"instant\":{\"epochSecond\":1671651427,\"nanoOfSecond\":144586000},\"thread\":\"unleash-api-executor\",\"level\":\"INFO\",\"loggerName\":\"hipstershop.AdService\",\"message\":\"Fetched toggles. Status: NOT_CHANGED\",\"endOfBatch\":false,\"loggerFqcn\":\"org.apache.logging.log4j.spi.AbstractLogger\",\"threadId\":47,\"threadPriority\":5,\"logging.googleapis.com/trace\":\"00000000000000000000000000000000\",\"logging.googleapis.com/spanId\":\"0000000000000000\",\"logging.googleapis.com/traceSampled\":\"false\",\"time\":\"2022-12-21T19:37:07.144Z\"}',\n",
       "  'timestamp': '2022-12-21T19:37:07.144000000Z',\n",
       "  'dt.entity.cloud_application': 'CLOUD_APPLICATION-C8BA01269BC6E499',\n",
       "  'dt.entity.cloud_application_instance': 'CLOUD_APPLICATION_INSTANCE-B5E1E73FC1ECE1B9',\n",
       "  'dt.entity.cloud_application_namespace': 'CLOUD_APPLICATION_NAMESPACE-71999F15315935CF',\n",
       "  'dt.entity.container_group': 'CONTAINER_GROUP-5C0AB02A5A2BF5F6',\n",
       "  'dt.entity.container_group_instance': 'CONTAINER_GROUP_INSTANCE-467018F5831B2B4C',\n",
       "  'dt.entity.host': 'HOST-0D0EBE0ED657F52D',\n",
       "  'dt.entity.kubernetes_cluster': 'KUBERNETES_CLUSTER-324E5954D86018E3',\n",
       "  'dt.entity.kubernetes_node': 'KUBERNETES_NODE-BC1610EB622744B7',\n",
       "  'dt.entity.process_group': 'PROCESS_GROUP-BB480A57E01CF0C9',\n",
       "  'dt.entity.process_group_instance': 'PROCESS_GROUP_INSTANCE-EE365185C8D4BF7A',\n",
       "  'dt.kubernetes.cluster.name': 'gke',\n",
       "  'dt.kubernetes.node.system_uuid': '8a310430-96e7-cdc8-5879-84ba05e08cfb',\n",
       "  'dt.process.name': 'HipsterShop: adservice',\n",
       "  'dt.source_entity': 'PROCESS_GROUP_INSTANCE-EE365185C8D4BF7A',\n",
       "  'event.type': 'LOG',\n",
       "  'host.name': 'gke-keptn-demo1-cos-bd5b5ae9-4u2q.c.dynatrace-demoability.internal',\n",
       "  'k8s.container.name': 'server',\n",
       "  'k8s.deployment.name': 'adservice-*',\n",
       "  'k8s.namespace.name': 'hipstershop-prod',\n",
       "  'k8s.pod.name': 'adservice-68884c6989-t7zsz',\n",
       "  'k8s.pod.uid': 'a4f2fe81-320d-4ca6-b2ae-8d68db1074ef',\n",
       "  'log.source': '/var/log/pods/hipstershop-prod_adservice-68884c6989-t7zsz_a4f2fe81-320d-4ca6-b2ae-8d68db1074ef/server/#.log',\n",
       "  'loglevel': 'NONE',\n",
       "  'process.technology': 'Containerd',\n",
       "  'status': 'NONE',\n",
       "  'log.iostream': 'stdout'},\n",
       " {'content': '{\"instant\":{\"epochSecond\":1671651427,\"nanoOfSecond\":291940000},\"thread\":\"grpc-default-executor-5914\",\"level\":\"INFO\",\"loggerName\":\"hipstershop.AdService\",\"message\":\"received ad request (context_words=[kitchen])\",\"endOfBatch\":false,\"loggerFqcn\":\"org.apache.logging.log4j.spi.AbstractLogger\",\"threadId\":32879,\"threadPriority\":5,\"logging.googleapis.com/trace\":\"00000000000000000000000000000000\",\"logging.googleapis.com/spanId\":\"0000000000000000\",\"logging.googleapis.com/traceSampled\":\"false\",\"time\":\"2022-12-21T19:37:07.291Z\"}',\n",
       "  'timestamp': '2022-12-21T19:37:07.292000000Z',\n",
       "  'dt.entity.cloud_application': 'CLOUD_APPLICATION-C8BA01269BC6E499',\n",
       "  'dt.entity.cloud_application_instance': 'CLOUD_APPLICATION_INSTANCE-B5E1E73FC1ECE1B9',\n",
       "  'dt.entity.cloud_application_namespace': 'CLOUD_APPLICATION_NAMESPACE-71999F15315935CF',\n",
       "  'dt.entity.container_group': 'CONTAINER_GROUP-5C0AB02A5A2BF5F6',\n",
       "  'dt.entity.container_group_instance': 'CONTAINER_GROUP_INSTANCE-467018F5831B2B4C',\n",
       "  'dt.entity.host': 'HOST-0D0EBE0ED657F52D',\n",
       "  'dt.entity.kubernetes_cluster': 'KUBERNETES_CLUSTER-324E5954D86018E3',\n",
       "  'dt.entity.kubernetes_node': 'KUBERNETES_NODE-BC1610EB622744B7',\n",
       "  'dt.entity.process_group': 'PROCESS_GROUP-BB480A57E01CF0C9',\n",
       "  'dt.entity.process_group_instance': 'PROCESS_GROUP_INSTANCE-EE365185C8D4BF7A',\n",
       "  'dt.kubernetes.cluster.name': 'gke',\n",
       "  'dt.kubernetes.node.system_uuid': '8a310430-96e7-cdc8-5879-84ba05e08cfb',\n",
       "  'dt.process.name': 'HipsterShop: adservice',\n",
       "  'dt.source_entity': 'PROCESS_GROUP_INSTANCE-EE365185C8D4BF7A',\n",
       "  'event.type': 'LOG',\n",
       "  'host.name': 'gke-keptn-demo1-cos-bd5b5ae9-4u2q.c.dynatrace-demoability.internal',\n",
       "  'k8s.container.name': 'server',\n",
       "  'k8s.deployment.name': 'adservice-*',\n",
       "  'k8s.namespace.name': 'hipstershop-prod',\n",
       "  'k8s.pod.name': 'adservice-68884c6989-t7zsz',\n",
       "  'k8s.pod.uid': 'a4f2fe81-320d-4ca6-b2ae-8d68db1074ef',\n",
       "  'log.source': '/var/log/pods/hipstershop-prod_adservice-68884c6989-t7zsz_a4f2fe81-320d-4ca6-b2ae-8d68db1074ef/server/#.log',\n",
       "  'loglevel': 'NONE',\n",
       "  'process.technology': 'Containerd',\n",
       "  'status': 'NONE',\n",
       "  'log.iostream': 'stdout'}]"
      ]
     },
     "execution_count": 14,
     "metadata": {},
     "output_type": "execute_result"
    }
   ],
   "source": [
    "%dql fetch logs, from:-10m | limit 2"
   ]
  },
  {
   "attachments": {},
   "cell_type": "markdown",
   "metadata": {},
   "source": [
    "### Output result as table using panda\n",
    "\n",
    "But first install required python lib"
   ]
  },
  {
   "cell_type": "code",
   "execution_count": null,
   "metadata": {},
   "outputs": [],
   "source": [
    "pip install pandas"
   ]
  },
  {
   "cell_type": "code",
   "execution_count": 11,
   "metadata": {},
   "outputs": [
    {
     "data": {
      "text/html": [
       "<style type=\"text/css\">\n",
       "</style>\n",
       "<table id=\"T_7f3d9\">\n",
       "  <thead>\n",
       "    <tr>\n",
       "      <th class=\"blank level0\" >&nbsp;</th>\n",
       "      <th id=\"T_7f3d9_level0_col0\" class=\"col_heading level0 col0\" >content</th>\n",
       "      <th id=\"T_7f3d9_level0_col1\" class=\"col_heading level0 col1\" >timestamp</th>\n",
       "      <th id=\"T_7f3d9_level0_col2\" class=\"col_heading level0 col2\" >dt.entity.host</th>\n",
       "      <th id=\"T_7f3d9_level0_col3\" class=\"col_heading level0 col3\" >dt.entity.kubernetes_cluster</th>\n",
       "      <th id=\"T_7f3d9_level0_col4\" class=\"col_heading level0 col4\" >dt.entity.process_group_instance</th>\n",
       "      <th id=\"T_7f3d9_level0_col5\" class=\"col_heading level0 col5\" >dt.kubernetes.cluster.id</th>\n",
       "      <th id=\"T_7f3d9_level0_col6\" class=\"col_heading level0 col6\" >dt.kubernetes.workload.kind</th>\n",
       "      <th id=\"T_7f3d9_level0_col7\" class=\"col_heading level0 col7\" >dt.kubernetes.workload.name</th>\n",
       "      <th id=\"T_7f3d9_level0_col8\" class=\"col_heading level0 col8\" >dt.source_entity</th>\n",
       "      <th id=\"T_7f3d9_level0_col9\" class=\"col_heading level0 col9\" >event.type</th>\n",
       "      <th id=\"T_7f3d9_level0_col10\" class=\"col_heading level0 col10\" >loglevel</th>\n",
       "      <th id=\"T_7f3d9_level0_col11\" class=\"col_heading level0 col11\" >status</th>\n",
       "      <th id=\"T_7f3d9_level0_col12\" class=\"col_heading level0 col12\" >dt.auth.origin</th>\n",
       "      <th id=\"T_7f3d9_level0_col13\" class=\"col_heading level0 col13\" >istio.canonical_revision</th>\n",
       "      <th id=\"T_7f3d9_level0_col14\" class=\"col_heading level0 col14\" >istio.canonical_service</th>\n",
       "      <th id=\"T_7f3d9_level0_col15\" class=\"col_heading level0 col15\" >span_id</th>\n",
       "      <th id=\"T_7f3d9_level0_col16\" class=\"col_heading level0 col16\" >trace_id</th>\n",
       "      <th id=\"T_7f3d9_level0_col17\" class=\"col_heading level0 col17\" >trace_sampled</th>\n",
       "    </tr>\n",
       "  </thead>\n",
       "  <tbody>\n",
       "    <tr>\n",
       "      <th id=\"T_7f3d9_level0_row0\" class=\"row_heading level0 row0\" >0</th>\n",
       "      <td id=\"T_7f3d9_row0_col0\" class=\"data row0 col0\" >Fetching cart of user: someone@example.com</td>\n",
       "      <td id=\"T_7f3d9_row0_col1\" class=\"data row0 col1\" >2023-04-26T12:07:46.528000000Z</td>\n",
       "      <td id=\"T_7f3d9_row0_col2\" class=\"data row0 col2\" >HOST-AD30753C9D5538EC</td>\n",
       "      <td id=\"T_7f3d9_row0_col3\" class=\"data row0 col3\" >KUBERNETES_CLUSTER-DEF2FDD4656A650A</td>\n",
       "      <td id=\"T_7f3d9_row0_col4\" class=\"data row0 col4\" >PROCESS_GROUP_INSTANCE-10A7EA993CACE0EB</td>\n",
       "      <td id=\"T_7f3d9_row0_col5\" class=\"data row0 col5\" >5336480e-d21c-4bb8-ac30-294f59d92358</td>\n",
       "      <td id=\"T_7f3d9_row0_col6\" class=\"data row0 col6\" >Deployment</td>\n",
       "      <td id=\"T_7f3d9_row0_col7\" class=\"data row0 col7\" >cartservice</td>\n",
       "      <td id=\"T_7f3d9_row0_col8\" class=\"data row0 col8\" >PROCESS_GROUP_INSTANCE-10A7EA993CACE0EB</td>\n",
       "      <td id=\"T_7f3d9_row0_col9\" class=\"data row0 col9\" >LOG</td>\n",
       "      <td id=\"T_7f3d9_row0_col10\" class=\"data row0 col10\" >INFO</td>\n",
       "      <td id=\"T_7f3d9_row0_col11\" class=\"data row0 col11\" >INFO</td>\n",
       "      <td id=\"T_7f3d9_row0_col12\" class=\"data row0 col12\" >dt0c01.RKJF375EW4EV5K55RGHTQHB5</td>\n",
       "      <td id=\"T_7f3d9_row0_col13\" class=\"data row0 col13\" >v1</td>\n",
       "      <td id=\"T_7f3d9_row0_col14\" class=\"data row0 col14\" >cartservice</td>\n",
       "      <td id=\"T_7f3d9_row0_col15\" class=\"data row0 col15\" >30783bb5d6da84e2</td>\n",
       "      <td id=\"T_7f3d9_row0_col16\" class=\"data row0 col16\" >f13400255c960f1b9e7306fcbc6fa413</td>\n",
       "      <td id=\"T_7f3d9_row0_col17\" class=\"data row0 col17\" >true</td>\n",
       "    </tr>\n",
       "  </tbody>\n",
       "</table>\n"
      ],
      "text/plain": [
       "<pandas.io.formats.style.Styler at 0x2a619a25b70>"
      ]
     },
     "execution_count": 11,
     "metadata": {},
     "output_type": "execute_result"
    }
   ],
   "source": [
    "import pandas as pd\n",
    "\n",
    "res=%dql fetch logs, from:-2h | limit 200\n",
    "\n",
    "df = pd.DataFrame(res)\n",
    "df.style\n"
   ]
  },
  {
   "attachments": {},
   "cell_type": "markdown",
   "metadata": {},
   "source": [
    "### Aggregate logs by loglevel using panda lib"
   ]
  },
  {
   "cell_type": "code",
   "execution_count": 16,
   "metadata": {},
   "outputs": [
    {
     "data": {
      "text/plain": [
       "<AxesSubplot:xlabel='loglevel'>"
      ]
     },
     "execution_count": 16,
     "metadata": {},
     "output_type": "execute_result"
    },
    {
     "data": {
      "image/png": "[encoded data removed]",
      "text/plain": [
       "<Figure size 432x288 with 1 Axes>"
      ]
     },
     "metadata": {
      "needs_background": "light"
     },
     "output_type": "display_data"
    }
   ],
   "source": [
    "import pandas as pd\n",
    "\n",
    "res = %dql fetch logs, from:-30m | limit 500\n",
    "\n",
    "df = pd.DataFrame(res)\n",
    "\n",
    "loglevel = df[\"loglevel\"].squeeze()\n",
    "count = df[\"content\"].groupby(loglevel).count()\n",
    "\n",
    "count.plot(kind=\"bar\")\n"
   ]
  },
  {
   "attachments": {},
   "cell_type": "markdown",
   "metadata": {},
   "source": [
    "### Aggregate logs by loglevel using DQL\n",
    "\n",
    "But first install an alternative charting library"
   ]
  },
  {
   "cell_type": "code",
   "execution_count": null,
   "metadata": {},
   "outputs": [],
   "source": [
    "pip install plotly"
   ]
  },
  {
   "cell_type": "code",
   "execution_count": 24,
   "metadata": {},
   "outputs": [
    {
     "data": {
      "application/vnd.plotly.v1+json": {
       "config": {
        "plotlyServerURL": "https://plot.ly"
       },
       "data": [
        {
         "alignmentgroup": "True",
         "hovertemplate": "loglevel=%{x}<br>Count=%{y}<extra></extra>",
         "legendgroup": "",
         "marker": {
          "color": "#636efa",
          "pattern": {
           "shape": ""
          }
         },
         "name": "",
         "offsetgroup": "",
         "orientation": "v",
         "showlegend": false,
         "textposition": "auto",
         "type": "bar",
         "x": [
          "DEBUG",
          "ERROR",
          "INFO",
          "NONE"
         ],
         "xaxis": "x",
         "y": [
          6988,
          315,
          13875,
          28822
         ],
         "yaxis": "y"
        }
       ],
       "layout": {
        "barmode": "relative",
        "height": 300,
        "legend": {
         "tracegroupgap": 0
        },
        "template": {
         "data": {
          "bar": [
           {
            "error_x": {
             "color": "#2a3f5f"
            },
            "error_y": {
             "color": "#2a3f5f"
            },
            "marker": {
             "line": {
              "color": "#E5ECF6",
              "width": 0.5
             },
             "pattern": {
              "fillmode": "overlay",
              "size": 10,
              "solidity": 0.2
             }
            },
            "type": "bar"
           }
          ],
          "barpolar": [
           {
            "marker": {
             "line": {
              "color": "#E5ECF6",
              "width": 0.5
             },
             "pattern": {
              "fillmode": "overlay",
              "size": 10,
              "solidity": 0.2
             }
            },
            "type": "barpolar"
           }
          ],
          "carpet": [
           {
            "aaxis": {
             "endlinecolor": "#2a3f5f",
             "gridcolor": "white",
             "linecolor": "white",
             "minorgridcolor": "white",
             "startlinecolor": "#2a3f5f"
            },
            "baxis": {
             "endlinecolor": "#2a3f5f",
             "gridcolor": "white",
             "linecolor": "white",
             "minorgridcolor": "white",
             "startlinecolor": "#2a3f5f"
            },
            "type": "carpet"
           }
          ],
          "choropleth": [
           {
            "colorbar": {
             "outlinewidth": 0,
             "ticks": ""
            },
            "type": "choropleth"
           }
          ],
          "contour": [
           {
            "colorbar": {
             "outlinewidth": 0,
             "ticks": ""
            },
            "colorscale": [
             [
              0,
              "#0d0887"
             ],
             [
              0.1111111111111111,
              "#46039f"
             ],
             [
              0.2222222222222222,
              "#7201a8"
             ],
             [
              0.3333333333333333,
              "#9c179e"
             ],
             [
              0.4444444444444444,
              "#bd3786"
             ],
             [
              0.5555555555555556,
              "#d8576b"
             ],
             [
              0.6666666666666666,
              "#ed7953"
             ],
             [
              0.7777777777777778,
              "#fb9f3a"
             ],
             [
              0.8888888888888888,
              "#fdca26"
             ],
             [
              1,
              "#f0f921"
             ]
            ],
            "type": "contour"
           }
          ],
          "contourcarpet": [
           {
            "colorbar": {
             "outlinewidth": 0,
             "ticks": ""
            },
            "type": "contourcarpet"
           }
          ],
          "heatmap": [
           {
            "colorbar": {
             "outlinewidth": 0,
             "ticks": ""
            },
            "colorscale": [
             [
              0,
              "#0d0887"
             ],
             [
              0.1111111111111111,
              "#46039f"
             ],
             [
              0.2222222222222222,
              "#7201a8"
             ],
             [
              0.3333333333333333,
              "#9c179e"
             ],
             [
              0.4444444444444444,
              "#bd3786"
             ],
             [
              0.5555555555555556,
              "#d8576b"
             ],
             [
              0.6666666666666666,
              "#ed7953"
             ],
             [
              0.7777777777777778,
              "#fb9f3a"
             ],
             [
              0.8888888888888888,
              "#fdca26"
             ],
             [
              1,
              "#f0f921"
             ]
            ],
            "type": "heatmap"
           }
          ],
          "heatmapgl": [
           {
            "colorbar": {
             "outlinewidth": 0,
             "ticks": ""
            },
            "colorscale": [
             [
              0,
              "#0d0887"
             ],
             [
              0.1111111111111111,
              "#46039f"
             ],
             [
              0.2222222222222222,
              "#7201a8"
             ],
             [
              0.3333333333333333,
              "#9c179e"
             ],
             [
              0.4444444444444444,
              "#bd3786"
             ],
             [
              0.5555555555555556,
              "#d8576b"
             ],
             [
              0.6666666666666666,
              "#ed7953"
             ],
             [
              0.7777777777777778,
              "#fb9f3a"
             ],
             [
              0.8888888888888888,
              "#fdca26"
             ],
             [
              1,
              "#f0f921"
             ]
            ],
            "type": "heatmapgl"
           }
          ],
          "histogram": [
           {
            "marker": {
             "pattern": {
              "fillmode": "overlay",
              "size": 10,
              "solidity": 0.2
             }
            },
            "type": "histogram"
           }
          ],
          "histogram2d": [
           {
            "colorbar": {
             "outlinewidth": 0,
             "ticks": ""
            },
            "colorscale": [
             [
              0,
              "#0d0887"
             ],
             [
              0.1111111111111111,
              "#46039f"
             ],
             [
              0.2222222222222222,
              "#7201a8"
             ],
             [
              0.3333333333333333,
              "#9c179e"
             ],
             [
              0.4444444444444444,
              "#bd3786"
             ],
             [
              0.5555555555555556,
              "#d8576b"
             ],
             [
              0.6666666666666666,
              "#ed7953"
             ],
             [
              0.7777777777777778,
              "#fb9f3a"
             ],
             [
              0.8888888888888888,
              "#fdca26"
             ],
             [
              1,
              "#f0f921"
             ]
            ],
            "type": "histogram2d"
           }
          ],
          "histogram2dcontour": [
           {
            "colorbar": {
             "outlinewidth": 0,
             "ticks": ""
            },
            "colorscale": [
             [
              0,
              "#0d0887"
             ],
             [
              0.1111111111111111,
              "#46039f"
             ],
             [
              0.2222222222222222,
              "#7201a8"
             ],
             [
              0.3333333333333333,
              "#9c179e"
             ],
             [
              0.4444444444444444,
              "#bd3786"
             ],
             [
              0.5555555555555556,
              "#d8576b"
             ],
             [
              0.6666666666666666,
              "#ed7953"
             ],
             [
              0.7777777777777778,
              "#fb9f3a"
             ],
             [
              0.8888888888888888,
              "#fdca26"
             ],
             [
              1,
              "#f0f921"
             ]
            ],
            "type": "histogram2dcontour"
           }
          ],
          "mesh3d": [
           {
            "colorbar": {
             "outlinewidth": 0,
             "ticks": ""
            },
            "type": "mesh3d"
           }
          ],
          "parcoords": [
           {
            "line": {
             "colorbar": {
              "outlinewidth": 0,
              "ticks": ""
             }
            },
            "type": "parcoords"
           }
          ],
          "pie": [
           {
            "automargin": true,
            "type": "pie"
           }
          ],
          "scatter": [
           {
            "fillpattern": {
             "fillmode": "overlay",
             "size": 10,
             "solidity": 0.2
            },
            "type": "scatter"
           }
          ],
          "scatter3d": [
           {
            "line": {
             "colorbar": {
              "outlinewidth": 0,
              "ticks": ""
             }
            },
            "marker": {
             "colorbar": {
              "outlinewidth": 0,
              "ticks": ""
             }
            },
            "type": "scatter3d"
           }
          ],
          "scattercarpet": [
           {
            "marker": {
             "colorbar": {
              "outlinewidth": 0,
              "ticks": ""
             }
            },
            "type": "scattercarpet"
           }
          ],
          "scattergeo": [
           {
            "marker": {
             "colorbar": {
              "outlinewidth": 0,
              "ticks": ""
             }
            },
            "type": "scattergeo"
           }
          ],
          "scattergl": [
           {
            "marker": {
             "colorbar": {
              "outlinewidth": 0,
              "ticks": ""
             }
            },
            "type": "scattergl"
           }
          ],
          "scattermapbox": [
           {
            "marker": {
             "colorbar": {
              "outlinewidth": 0,
              "ticks": ""
             }
            },
            "type": "scattermapbox"
           }
          ],
          "scatterpolar": [
           {
            "marker": {
             "colorbar": {
              "outlinewidth": 0,
              "ticks": ""
             }
            },
            "type": "scatterpolar"
           }
          ],
          "scatterpolargl": [
           {
            "marker": {
             "colorbar": {
              "outlinewidth": 0,
              "ticks": ""
             }
            },
            "type": "scatterpolargl"
           }
          ],
          "scatterternary": [
           {
            "marker": {
             "colorbar": {
              "outlinewidth": 0,
              "ticks": ""
             }
            },
            "type": "scatterternary"
           }
          ],
          "surface": [
           {
            "colorbar": {
             "outlinewidth": 0,
             "ticks": ""
            },
            "colorscale": [
             [
              0,
              "#0d0887"
             ],
             [
              0.1111111111111111,
              "#46039f"
             ],
             [
              0.2222222222222222,
              "#7201a8"
             ],
             [
              0.3333333333333333,
              "#9c179e"
             ],
             [
              0.4444444444444444,
              "#bd3786"
             ],
             [
              0.5555555555555556,
              "#d8576b"
             ],
             [
              0.6666666666666666,
              "#ed7953"
             ],
             [
              0.7777777777777778,
              "#fb9f3a"
             ],
             [
              0.8888888888888888,
              "#fdca26"
             ],
             [
              1,
              "#f0f921"
             ]
            ],
            "type": "surface"
           }
          ],
          "table": [
           {
            "cells": {
             "fill": {
              "color": "#EBF0F8"
             },
             "line": {
              "color": "white"
             }
            },
            "header": {
             "fill": {
              "color": "#C8D4E3"
             },
             "line": {
              "color": "white"
             }
            },
            "type": "table"
           }
          ]
         },
         "layout": {
          "annotationdefaults": {
           "arrowcolor": "#2a3f5f",
           "arrowhead": 0,
           "arrowwidth": 1
          },
          "autotypenumbers": "strict",
          "coloraxis": {
           "colorbar": {
            "outlinewidth": 0,
            "ticks": ""
           }
          },
          "colorscale": {
           "diverging": [
            [
             0,
             "#8e0152"
            ],
            [
             0.1,
             "#c51b7d"
            ],
            [
             0.2,
             "#de77ae"
            ],
            [
             0.3,
             "#f1b6da"
            ],
            [
             0.4,
             "#fde0ef"
            ],
            [
             0.5,
             "#f7f7f7"
            ],
            [
             0.6,
             "#e6f5d0"
            ],
            [
             0.7,
             "#b8e186"
            ],
            [
             0.8,
             "#7fbc41"
            ],
            [
             0.9,
             "#4d9221"
            ],
            [
             1,
             "#276419"
            ]
           ],
           "sequential": [
            [
             0,
             "#0d0887"
            ],
            [
             0.1111111111111111,
             "#46039f"
            ],
            [
             0.2222222222222222,
             "#7201a8"
            ],
            [
             0.3333333333333333,
             "#9c179e"
            ],
            [
             0.4444444444444444,
             "#bd3786"
            ],
            [
             0.5555555555555556,
             "#d8576b"
            ],
            [
             0.6666666666666666,
             "#ed7953"
            ],
            [
             0.7777777777777778,
             "#fb9f3a"
            ],
            [
             0.8888888888888888,
             "#fdca26"
            ],
            [
             1,
             "#f0f921"
            ]
           ],
           "sequentialminus": [
            [
             0,
             "#0d0887"
            ],
            [
             0.1111111111111111,
             "#46039f"
            ],
            [
             0.2222222222222222,
             "#7201a8"
            ],
            [
             0.3333333333333333,
             "#9c179e"
            ],
            [
             0.4444444444444444,
             "#bd3786"
            ],
            [
             0.5555555555555556,
             "#d8576b"
            ],
            [
             0.6666666666666666,
             "#ed7953"
            ],
            [
             0.7777777777777778,
             "#fb9f3a"
            ],
            [
             0.8888888888888888,
             "#fdca26"
            ],
            [
             1,
             "#f0f921"
            ]
           ]
          },
          "colorway": [
           "#636efa",
           "#EF553B",
           "#00cc96",
           "#ab63fa",
           "#FFA15A",
           "#19d3f3",
           "#FF6692",
           "#B6E880",
           "#FF97FF",
           "#FECB52"
          ],
          "font": {
           "color": "#2a3f5f"
          },
          "geo": {
           "bgcolor": "white",
           "lakecolor": "white",
           "landcolor": "#E5ECF6",
           "showlakes": true,
           "showland": true,
           "subunitcolor": "white"
          },
          "hoverlabel": {
           "align": "left"
          },
          "hovermode": "closest",
          "mapbox": {
           "style": "light"
          },
          "paper_bgcolor": "white",
          "plot_bgcolor": "#E5ECF6",
          "polar": {
           "angularaxis": {
            "gridcolor": "white",
            "linecolor": "white",
            "ticks": ""
           },
           "bgcolor": "#E5ECF6",
           "radialaxis": {
            "gridcolor": "white",
            "linecolor": "white",
            "ticks": ""
           }
          },
          "scene": {
           "xaxis": {
            "backgroundcolor": "#E5ECF6",
            "gridcolor": "white",
            "gridwidth": 2,
            "linecolor": "white",
            "showbackground": true,
            "ticks": "",
            "zerolinecolor": "white"
           },
           "yaxis": {
            "backgroundcolor": "#E5ECF6",
            "gridcolor": "white",
            "gridwidth": 2,
            "linecolor": "white",
            "showbackground": true,
            "ticks": "",
            "zerolinecolor": "white"
           },
           "zaxis": {
            "backgroundcolor": "#E5ECF6",
            "gridcolor": "white",
            "gridwidth": 2,
            "linecolor": "white",
            "showbackground": true,
            "ticks": "",
            "zerolinecolor": "white"
           }
          },
          "shapedefaults": {
           "line": {
            "color": "#2a3f5f"
           }
          },
          "ternary": {
           "aaxis": {
            "gridcolor": "white",
            "linecolor": "white",
            "ticks": ""
           },
           "baxis": {
            "gridcolor": "white",
            "linecolor": "white",
            "ticks": ""
           },
           "bgcolor": "#E5ECF6",
           "caxis": {
            "gridcolor": "white",
            "linecolor": "white",
            "ticks": ""
           }
          },
          "title": {
           "x": 0.05
          },
          "xaxis": {
           "automargin": true,
           "gridcolor": "white",
           "linecolor": "white",
           "ticks": "",
           "title": {
            "standoff": 15
           },
           "zerolinecolor": "white",
           "zerolinewidth": 2
          },
          "yaxis": {
           "automargin": true,
           "gridcolor": "white",
           "linecolor": "white",
           "ticks": "",
           "title": {
            "standoff": 15
           },
           "zerolinecolor": "white",
           "zerolinewidth": 2
          }
         }
        },
        "title": {
         "text": "Number of logs by loglevel"
        },
        "width": 400,
        "xaxis": {
         "anchor": "y",
         "domain": [
          0,
          1
         ],
         "title": {
          "text": "loglevel"
         }
        },
        "yaxis": {
         "anchor": "x",
         "domain": [
          0,
          1
         ],
         "title": {
          "text": "Count"
         }
        }
       }
      }
     },
     "metadata": {},
     "output_type": "display_data"
    }
   ],
   "source": [
    "import plotly.express as px\n",
    "import pandas as pd\n",
    "\n",
    "res = %dql fetch logs, from:-3h | limit 50000 | summarize Count = count(), by: loglevel\n",
    "\n",
    "df = pd.DataFrame(res)\n",
    "\n",
    "fig = px.bar(df, x=\"loglevel\", y=\"Count\", title=\"Number of logs by loglevel\", width=400, height=300)\n",
    "fig.show()\n",
    "\n"
   ]
  },
  {
   "attachments": {},
   "cell_type": "markdown",
   "metadata": {},
   "source": [
    "### Aggregate logs by loglevel over time\n"
   ]
  },
  {
   "cell_type": "code",
   "execution_count": 22,
   "metadata": {},
   "outputs": [
    {
     "data": {
      "application/vnd.plotly.v1+json": {
       "config": {
        "plotlyServerURL": "https://plot.ly"
       },
       "data": [
        {
         "alignmentgroup": "True",
         "hovertemplate": "loglevel=DEBUG<br>bin(timestamp, 15m)=%{x}<br>Count=%{y}<extra></extra>",
         "legendgroup": "DEBUG",
         "marker": {
          "color": "#636efa",
          "pattern": {
           "shape": ""
          }
         },
         "name": "DEBUG",
         "offsetgroup": "DEBUG",
         "orientation": "v",
         "showlegend": true,
         "textposition": "auto",
         "type": "bar",
         "x": [
          "2022-12-21T18:45:00.000000000Z",
          "2022-12-21T19:00:00.000000000Z",
          "2022-12-21T19:15:00.000000000Z",
          "2022-12-21T19:30:00.000000000Z"
         ],
         "xaxis": "x",
         "y": [
          1290,
          2049,
          2057,
          1527
         ],
         "yaxis": "y"
        },
        {
         "alignmentgroup": "True",
         "hovertemplate": "loglevel=ERROR<br>bin(timestamp, 15m)=%{x}<br>Count=%{y}<extra></extra>",
         "legendgroup": "ERROR",
         "marker": {
          "color": "#EF553B",
          "pattern": {
           "shape": ""
          }
         },
         "name": "ERROR",
         "offsetgroup": "ERROR",
         "orientation": "v",
         "showlegend": true,
         "textposition": "auto",
         "type": "bar",
         "x": [
          "2022-12-21T18:45:00.000000000Z",
          "2022-12-21T19:00:00.000000000Z",
          "2022-12-21T19:15:00.000000000Z",
          "2022-12-21T19:30:00.000000000Z"
         ],
         "xaxis": "x",
         "y": [
          48,
          93,
          98,
          72
         ],
         "yaxis": "y"
        },
        {
         "alignmentgroup": "True",
         "hovertemplate": "loglevel=INFO<br>bin(timestamp, 15m)=%{x}<br>Count=%{y}<extra></extra>",
         "legendgroup": "INFO",
         "marker": {
          "color": "#00cc96",
          "pattern": {
           "shape": ""
          }
         },
         "name": "INFO",
         "offsetgroup": "INFO",
         "orientation": "v",
         "showlegend": true,
         "textposition": "auto",
         "type": "bar",
         "x": [
          "2022-12-21T18:45:00.000000000Z",
          "2022-12-21T19:00:00.000000000Z",
          "2022-12-21T19:15:00.000000000Z",
          "2022-12-21T19:30:00.000000000Z"
         ],
         "xaxis": "x",
         "y": [
          2547,
          3932,
          3956,
          3384
         ],
         "yaxis": "y"
        },
        {
         "alignmentgroup": "True",
         "hovertemplate": "loglevel=NONE<br>bin(timestamp, 15m)=%{x}<br>Count=%{y}<extra></extra>",
         "legendgroup": "NONE",
         "marker": {
          "color": "#ab63fa",
          "pattern": {
           "shape": ""
          }
         },
         "name": "NONE",
         "offsetgroup": "NONE",
         "orientation": "v",
         "showlegend": true,
         "textposition": "auto",
         "type": "bar",
         "x": [
          "2022-12-21T18:45:00.000000000Z",
          "2022-12-21T19:00:00.000000000Z",
          "2022-12-21T19:15:00.000000000Z",
          "2022-12-21T19:30:00.000000000Z"
         ],
         "xaxis": "x",
         "y": [
          4018,
          6003,
          5792,
          13134
         ],
         "yaxis": "y"
        }
       ],
       "layout": {
        "barmode": "relative",
        "height": 300,
        "legend": {
         "title": {
          "text": "loglevel"
         },
         "tracegroupgap": 0
        },
        "template": {
         "data": {
          "bar": [
           {
            "error_x": {
             "color": "#2a3f5f"
            },
            "error_y": {
             "color": "#2a3f5f"
            },
            "marker": {
             "line": {
              "color": "#E5ECF6",
              "width": 0.5
             },
             "pattern": {
              "fillmode": "overlay",
              "size": 10,
              "solidity": 0.2
             }
            },
            "type": "bar"
           }
          ],
          "barpolar": [
           {
            "marker": {
             "line": {
              "color": "#E5ECF6",
              "width": 0.5
             },
             "pattern": {
              "fillmode": "overlay",
              "size": 10,
              "solidity": 0.2
             }
            },
            "type": "barpolar"
           }
          ],
          "carpet": [
           {
            "aaxis": {
             "endlinecolor": "#2a3f5f",
             "gridcolor": "white",
             "linecolor": "white",
             "minorgridcolor": "white",
             "startlinecolor": "#2a3f5f"
            },
            "baxis": {
             "endlinecolor": "#2a3f5f",
             "gridcolor": "white",
             "linecolor": "white",
             "minorgridcolor": "white",
             "startlinecolor": "#2a3f5f"
            },
            "type": "carpet"
           }
          ],
          "choropleth": [
           {
            "colorbar": {
             "outlinewidth": 0,
             "ticks": ""
            },
            "type": "choropleth"
           }
          ],
          "contour": [
           {
            "colorbar": {
             "outlinewidth": 0,
             "ticks": ""
            },
            "colorscale": [
             [
              0,
              "#0d0887"
             ],
             [
              0.1111111111111111,
              "#46039f"
             ],
             [
              0.2222222222222222,
              "#7201a8"
             ],
             [
              0.3333333333333333,
              "#9c179e"
             ],
             [
              0.4444444444444444,
              "#bd3786"
             ],
             [
              0.5555555555555556,
              "#d8576b"
             ],
             [
              0.6666666666666666,
              "#ed7953"
             ],
             [
              0.7777777777777778,
              "#fb9f3a"
             ],
             [
              0.8888888888888888,
              "#fdca26"
             ],
             [
              1,
              "#f0f921"
             ]
            ],
            "type": "contour"
           }
          ],
          "contourcarpet": [
           {
            "colorbar": {
             "outlinewidth": 0,
             "ticks": ""
            },
            "type": "contourcarpet"
           }
          ],
          "heatmap": [
           {
            "colorbar": {
             "outlinewidth": 0,
             "ticks": ""
            },
            "colorscale": [
             [
              0,
              "#0d0887"
             ],
             [
              0.1111111111111111,
              "#46039f"
             ],
             [
              0.2222222222222222,
              "#7201a8"
             ],
             [
              0.3333333333333333,
              "#9c179e"
             ],
             [
              0.4444444444444444,
              "#bd3786"
             ],
             [
              0.5555555555555556,
              "#d8576b"
             ],
             [
              0.6666666666666666,
              "#ed7953"
             ],
             [
              0.7777777777777778,
              "#fb9f3a"
             ],
             [
              0.8888888888888888,
              "#fdca26"
             ],
             [
              1,
              "#f0f921"
             ]
            ],
            "type": "heatmap"
           }
          ],
          "heatmapgl": [
           {
            "colorbar": {
             "outlinewidth": 0,
             "ticks": ""
            },
            "colorscale": [
             [
              0,
              "#0d0887"
             ],
             [
              0.1111111111111111,
              "#46039f"
             ],
             [
              0.2222222222222222,
              "#7201a8"
             ],
             [
              0.3333333333333333,
              "#9c179e"
             ],
             [
              0.4444444444444444,
              "#bd3786"
             ],
             [
              0.5555555555555556,
              "#d8576b"
             ],
             [
              0.6666666666666666,
              "#ed7953"
             ],
             [
              0.7777777777777778,
              "#fb9f3a"
             ],
             [
              0.8888888888888888,
              "#fdca26"
             ],
             [
              1,
              "#f0f921"
             ]
            ],
            "type": "heatmapgl"
           }
          ],
          "histogram": [
           {
            "marker": {
             "pattern": {
              "fillmode": "overlay",
              "size": 10,
              "solidity": 0.2
             }
            },
            "type": "histogram"
           }
          ],
          "histogram2d": [
           {
            "colorbar": {
             "outlinewidth": 0,
             "ticks": ""
            },
            "colorscale": [
             [
              0,
              "#0d0887"
             ],
             [
              0.1111111111111111,
              "#46039f"
             ],
             [
              0.2222222222222222,
              "#7201a8"
             ],
             [
              0.3333333333333333,
              "#9c179e"
             ],
             [
              0.4444444444444444,
              "#bd3786"
             ],
             [
              0.5555555555555556,
              "#d8576b"
             ],
             [
              0.6666666666666666,
              "#ed7953"
             ],
             [
              0.7777777777777778,
              "#fb9f3a"
             ],
             [
              0.8888888888888888,
              "#fdca26"
             ],
             [
              1,
              "#f0f921"
             ]
            ],
            "type": "histogram2d"
           }
          ],
          "histogram2dcontour": [
           {
            "colorbar": {
             "outlinewidth": 0,
             "ticks": ""
            },
            "colorscale": [
             [
              0,
              "#0d0887"
             ],
             [
              0.1111111111111111,
              "#46039f"
             ],
             [
              0.2222222222222222,
              "#7201a8"
             ],
             [
              0.3333333333333333,
              "#9c179e"
             ],
             [
              0.4444444444444444,
              "#bd3786"
             ],
             [
              0.5555555555555556,
              "#d8576b"
             ],
             [
              0.6666666666666666,
              "#ed7953"
             ],
             [
              0.7777777777777778,
              "#fb9f3a"
             ],
             [
              0.8888888888888888,
              "#fdca26"
             ],
             [
              1,
              "#f0f921"
             ]
            ],
            "type": "histogram2dcontour"
           }
          ],
          "mesh3d": [
           {
            "colorbar": {
             "outlinewidth": 0,
             "ticks": ""
            },
            "type": "mesh3d"
           }
          ],
          "parcoords": [
           {
            "line": {
             "colorbar": {
              "outlinewidth": 0,
              "ticks": ""
             }
            },
            "type": "parcoords"
           }
          ],
          "pie": [
           {
            "automargin": true,
            "type": "pie"
           }
          ],
          "scatter": [
           {
            "fillpattern": {
             "fillmode": "overlay",
             "size": 10,
             "solidity": 0.2
            },
            "type": "scatter"
           }
          ],
          "scatter3d": [
           {
            "line": {
             "colorbar": {
              "outlinewidth": 0,
              "ticks": ""
             }
            },
            "marker": {
             "colorbar": {
              "outlinewidth": 0,
              "ticks": ""
             }
            },
            "type": "scatter3d"
           }
          ],
          "scattercarpet": [
           {
            "marker": {
             "colorbar": {
              "outlinewidth": 0,
              "ticks": ""
             }
            },
            "type": "scattercarpet"
           }
          ],
          "scattergeo": [
           {
            "marker": {
             "colorbar": {
              "outlinewidth": 0,
              "ticks": ""
             }
            },
            "type": "scattergeo"
           }
          ],
          "scattergl": [
           {
            "marker": {
             "colorbar": {
              "outlinewidth": 0,
              "ticks": ""
             }
            },
            "type": "scattergl"
           }
          ],
          "scattermapbox": [
           {
            "marker": {
             "colorbar": {
              "outlinewidth": 0,
              "ticks": ""
             }
            },
            "type": "scattermapbox"
           }
          ],
          "scatterpolar": [
           {
            "marker": {
             "colorbar": {
              "outlinewidth": 0,
              "ticks": ""
             }
            },
            "type": "scatterpolar"
           }
          ],
          "scatterpolargl": [
           {
            "marker": {
             "colorbar": {
              "outlinewidth": 0,
              "ticks": ""
             }
            },
            "type": "scatterpolargl"
           }
          ],
          "scatterternary": [
           {
            "marker": {
             "colorbar": {
              "outlinewidth": 0,
              "ticks": ""
             }
            },
            "type": "scatterternary"
           }
          ],
          "surface": [
           {
            "colorbar": {
             "outlinewidth": 0,
             "ticks": ""
            },
            "colorscale": [
             [
              0,
              "#0d0887"
             ],
             [
              0.1111111111111111,
              "#46039f"
             ],
             [
              0.2222222222222222,
              "#7201a8"
             ],
             [
              0.3333333333333333,
              "#9c179e"
             ],
             [
              0.4444444444444444,
              "#bd3786"
             ],
             [
              0.5555555555555556,
              "#d8576b"
             ],
             [
              0.6666666666666666,
              "#ed7953"
             ],
             [
              0.7777777777777778,
              "#fb9f3a"
             ],
             [
              0.8888888888888888,
              "#fdca26"
             ],
             [
              1,
              "#f0f921"
             ]
            ],
            "type": "surface"
           }
          ],
          "table": [
           {
            "cells": {
             "fill": {
              "color": "#EBF0F8"
             },
             "line": {
              "color": "white"
             }
            },
            "header": {
             "fill": {
              "color": "#C8D4E3"
             },
             "line": {
              "color": "white"
             }
            },
            "type": "table"
           }
          ]
         },
         "layout": {
          "annotationdefaults": {
           "arrowcolor": "#2a3f5f",
           "arrowhead": 0,
           "arrowwidth": 1
          },
          "autotypenumbers": "strict",
          "coloraxis": {
           "colorbar": {
            "outlinewidth": 0,
            "ticks": ""
           }
          },
          "colorscale": {
           "diverging": [
            [
             0,
             "#8e0152"
            ],
            [
             0.1,
             "#c51b7d"
            ],
            [
             0.2,
             "#de77ae"
            ],
            [
             0.3,
             "#f1b6da"
            ],
            [
             0.4,
             "#fde0ef"
            ],
            [
             0.5,
             "#f7f7f7"
            ],
            [
             0.6,
             "#e6f5d0"
            ],
            [
             0.7,
             "#b8e186"
            ],
            [
             0.8,
             "#7fbc41"
            ],
            [
             0.9,
             "#4d9221"
            ],
            [
             1,
             "#276419"
            ]
           ],
           "sequential": [
            [
             0,
             "#0d0887"
            ],
            [
             0.1111111111111111,
             "#46039f"
            ],
            [
             0.2222222222222222,
             "#7201a8"
            ],
            [
             0.3333333333333333,
             "#9c179e"
            ],
            [
             0.4444444444444444,
             "#bd3786"
            ],
            [
             0.5555555555555556,
             "#d8576b"
            ],
            [
             0.6666666666666666,
             "#ed7953"
            ],
            [
             0.7777777777777778,
             "#fb9f3a"
            ],
            [
             0.8888888888888888,
             "#fdca26"
            ],
            [
             1,
             "#f0f921"
            ]
           ],
           "sequentialminus": [
            [
             0,
             "#0d0887"
            ],
            [
             0.1111111111111111,
             "#46039f"
            ],
            [
             0.2222222222222222,
             "#7201a8"
            ],
            [
             0.3333333333333333,
             "#9c179e"
            ],
            [
             0.4444444444444444,
             "#bd3786"
            ],
            [
             0.5555555555555556,
             "#d8576b"
            ],
            [
             0.6666666666666666,
             "#ed7953"
            ],
            [
             0.7777777777777778,
             "#fb9f3a"
            ],
            [
             0.8888888888888888,
             "#fdca26"
            ],
            [
             1,
             "#f0f921"
            ]
           ]
          },
          "colorway": [
           "#636efa",
           "#EF553B",
           "#00cc96",
           "#ab63fa",
           "#FFA15A",
           "#19d3f3",
           "#FF6692",
           "#B6E880",
           "#FF97FF",
           "#FECB52"
          ],
          "font": {
           "color": "#2a3f5f"
          },
          "geo": {
           "bgcolor": "white",
           "lakecolor": "white",
           "landcolor": "#E5ECF6",
           "showlakes": true,
           "showland": true,
           "subunitcolor": "white"
          },
          "hoverlabel": {
           "align": "left"
          },
          "hovermode": "closest",
          "mapbox": {
           "style": "light"
          },
          "paper_bgcolor": "white",
          "plot_bgcolor": "#E5ECF6",
          "polar": {
           "angularaxis": {
            "gridcolor": "white",
            "linecolor": "white",
            "ticks": ""
           },
           "bgcolor": "#E5ECF6",
           "radialaxis": {
            "gridcolor": "white",
            "linecolor": "white",
            "ticks": ""
           }
          },
          "scene": {
           "xaxis": {
            "backgroundcolor": "#E5ECF6",
            "gridcolor": "white",
            "gridwidth": 2,
            "linecolor": "white",
            "showbackground": true,
            "ticks": "",
            "zerolinecolor": "white"
           },
           "yaxis": {
            "backgroundcolor": "#E5ECF6",
            "gridcolor": "white",
            "gridwidth": 2,
            "linecolor": "white",
            "showbackground": true,
            "ticks": "",
            "zerolinecolor": "white"
           },
           "zaxis": {
            "backgroundcolor": "#E5ECF6",
            "gridcolor": "white",
            "gridwidth": 2,
            "linecolor": "white",
            "showbackground": true,
            "ticks": "",
            "zerolinecolor": "white"
           }
          },
          "shapedefaults": {
           "line": {
            "color": "#2a3f5f"
           }
          },
          "ternary": {
           "aaxis": {
            "gridcolor": "white",
            "linecolor": "white",
            "ticks": ""
           },
           "baxis": {
            "gridcolor": "white",
            "linecolor": "white",
            "ticks": ""
           },
           "bgcolor": "#E5ECF6",
           "caxis": {
            "gridcolor": "white",
            "linecolor": "white",
            "ticks": ""
           }
          },
          "title": {
           "x": 0.05
          },
          "xaxis": {
           "automargin": true,
           "gridcolor": "white",
           "linecolor": "white",
           "ticks": "",
           "title": {
            "standoff": 15
           },
           "zerolinecolor": "white",
           "zerolinewidth": 2
          },
          "yaxis": {
           "automargin": true,
           "gridcolor": "white",
           "linecolor": "white",
           "ticks": "",
           "title": {
            "standoff": 15
           },
           "zerolinecolor": "white",
           "zerolinewidth": 2
          }
         }
        },
        "title": {
         "text": "Number of logs by loglevel"
        },
        "width": 400,
        "xaxis": {
         "anchor": "y",
         "domain": [
          0,
          1
         ],
         "title": {
          "text": "bin(timestamp, 15m)"
         }
        },
        "yaxis": {
         "anchor": "x",
         "domain": [
          0,
          1
         ],
         "title": {
          "text": "Count"
         }
        }
       }
      }
     },
     "metadata": {},
     "output_type": "display_data"
    }
   ],
   "source": [
    "import plotly.express as px\n",
    "import pandas as pd\n",
    "\n",
    "res = %dql fetch logs, from:-1h | limit 50000 | summarize Count = count(), by:{bin(timestamp, 15m), loglevel}\n",
    "\n",
    "df = pd.DataFrame(res)\n",
    "\n",
    "fig = px.bar(df, x=\"bin(timestamp, 15m)\", y=\"Count\", color=\"loglevel\", title=\"Number of logs by loglevel\", width=400, height=300)\n",
    "\n",
    "fig.show()"
   ]
  }
 ],
 "metadata": {
  "kernelspec": {
   "display_name": "Python 3",
   "language": "python",
   "name": "python3"
  },
  "language_info": {
   "codemirror_mode": {
    "name": "ipython",
    "version": 3
   },
   "file_extension": ".py",
   "mimetype": "text/x-python",
   "name": "python",
   "nbconvert_exporter": "python",
   "pygments_lexer": "ipython3",
   "version": "3.10.4"
  },
  "orig_nbformat": 4,
  "vscode": {
   "interpreter": {
    "hash": "c7fac879eac850041a6a5b9b297bb1ce00e87b872d964dcc34acdc5241cebaca"
   }
  }
 },
 "nbformat": 4,
 "nbformat_minor": 2
}
